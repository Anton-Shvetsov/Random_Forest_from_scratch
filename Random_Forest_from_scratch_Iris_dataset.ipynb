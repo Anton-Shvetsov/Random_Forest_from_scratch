{
 "cells": [
  {
   "cell_type": "markdown",
   "metadata": {},
   "source": [
    "# Random Forest from scratch for Iris dataset"
   ]
  },
  {
   "cell_type": "code",
   "execution_count": 1,
   "metadata": {},
   "outputs": [],
   "source": [
    "import numpy as np\n",
    "\n",
    "from sklearn.datasets import load_iris # to load dataset\n",
    "from sklearn.model_selection import train_test_split # to split dataset to train and test parts\n",
    "from sklearn.metrics import f1_score # to evaluate f1_score metric"
   ]
  },
  {
   "cell_type": "markdown",
   "metadata": {},
   "source": [
    "## Functions"
   ]
  },
  {
   "cell_type": "markdown",
   "metadata": {},
   "source": [
    "\"Thoughts\" of one tree:"
   ]
  },
  {
   "cell_type": "code",
   "execution_count": 2,
   "metadata": {},
   "outputs": [],
   "source": [
    "def Entropy(P_left,P_right,w_left,w_right):\n",
    "    dH = 0\n",
    "\n",
    "    for p in P_left:\n",
    "        if (p!=0): \n",
    "            dH += - w_left*np.log2(p)\n",
    "\n",
    "    for p in P_right:\n",
    "        if (p!=0): \n",
    "            dH +=  - w_right*np.log2(p)\n",
    "\n",
    "    return dH\n",
    "\n",
    "def choose_nodes(H_before,X,Y,inf_gain_threshold,len_features):\n",
    "    inf_gain_max = 0\n",
    "    possible_node = None\n",
    "    for feature in range(len_features):\n",
    "        feature_values = np.array([X[i][feature] for i in range(len(X))])\n",
    "        if max(feature_values) != min(feature_values):\n",
    "            step = (max(feature_values) - min(feature_values)) / np.random.randint(2,10)\n",
    "            thresholds = np.arange(min(feature_values)+step,max(feature_values),step)\n",
    "            for threshold in thresholds:\n",
    "                X_left = []\n",
    "                X_right = []\n",
    "                Y_left = []\n",
    "                Y_right = []\n",
    "                for i in range(len(X)):\n",
    "                    if X[i][feature] < threshold:\n",
    "                        X_left.append(X[i])\n",
    "                        Y_left.append(Y[i])\n",
    "                    else:\n",
    "                        X_right.append(X[i])\n",
    "                        Y_right.append(Y[i])\n",
    "                if len(X) > 0:\n",
    "                    w_left = len(X_left) / len(X)\n",
    "                    w_right = 1 - w_left\n",
    "                    P_left = P(Y_left)\n",
    "                    P_right = P(Y_right)\n",
    "                    H = Entropy(P_left,P_right,w_left,w_right)\n",
    "                    inf_gain = H_before - H\n",
    "                    if inf_gain > inf_gain_max:\n",
    "                        inf_gain_max = inf_gain\n",
    "                        possible_node = [inf_gain,H,X_left,Y_left,X_right,Y_right,feature,threshold]\n",
    "    if possible_node:\n",
    "        inf_gain,H,X_left,Y_left,X_right,Y_right,feature,threshold = possible_node\n",
    "        if inf_gain > inf_gain_threshold:\n",
    "            return possible_node\n",
    "    else:\n",
    "        return None\n",
    "\n",
    "def P(Y):\n",
    "    Y = np.array(Y)\n",
    "    Y_set = list(np.unique(Y))\n",
    "    if len(Y_set) > 1:\n",
    "        P = np.zeros(len(Y_set))\n",
    "        for i in range(len(Y_set)):\n",
    "            y = Y_set[i]\n",
    "            P[i] = len(list(Y[Y==y])) / len(list(Y))\n",
    "    elif len(Y_set) == 1:\n",
    "        P = np.array([1])\n",
    "    else:\n",
    "        P = np.array([0])\n",
    "    return P\n",
    "\n",
    "def max_category(Y):\n",
    "    Y = np.array(Y,dtype=np.int16)\n",
    "    return np.argmax(np.bincount(Y))\n",
    "\n",
    "def create_node(H,X,Y,feature,threshold,left,right,up,end=False,prediction=None):\n",
    "    node = {}\n",
    "    node['Entropy'] = H\n",
    "    node['X'] = X\n",
    "    node['Y'] = Y\n",
    "    node['feature'] = feature\n",
    "    node['threshold'] = threshold\n",
    "    node['left'] = left\n",
    "    node['right'] = right\n",
    "    node['up'] = up\n",
    "    node['END'] = end\n",
    "    node['prediction'] = prediction\n",
    "    return node"
   ]
  },
  {
   "cell_type": "markdown",
   "metadata": {},
   "source": [
    "Tree training:"
   ]
  },
  {
   "cell_type": "code",
   "execution_count": 3,
   "metadata": {},
   "outputs": [],
   "source": [
    "def train_tree(X_train,Y_train,inf_gain_threshold,len_features):\n",
    "\n",
    "    if not len_features:\n",
    "        len_features=X_train.shape[1]\n",
    "        \n",
    "    tree = {}\n",
    "    w_left = 1\n",
    "    w_right = 0\n",
    "    P_left = P(Y_train)\n",
    "    P_right = np.array([0])\n",
    "    H = Entropy(P_left,P_right,w_left,w_right)\n",
    "\n",
    "    tree['top'] = create_node(H,X_train,Y_train,feature=None,threshold=None,left=None,right=None,up=None,end=False,prediction=None)\n",
    "    queue_list = ['top']\n",
    "\n",
    "    while queue_list:\n",
    "\n",
    "        current = queue_list.pop()\n",
    "        X_current = tree[current]['X']\n",
    "        Y_current = tree[current]['Y']\n",
    "        possible_node = choose_nodes(H,X_current,Y_current,len_features=len_features,inf_gain_threshold=inf_gain_threshold)\n",
    "        \n",
    "        if possible_node:\n",
    "            inf_gain,H,X_left,Y_left,X_right,Y_right,feature,threshold = possible_node\n",
    "            if (len(X_left) > 0 and len(X_right) > 0) :\n",
    "                right = current + 'right'\n",
    "                tree[right] = create_node(H,X_right,Y_right,feature=None,threshold=None,left=None,right=None,up=current,end=False,prediction=None)\n",
    "                queue_list.append(right)\n",
    "\n",
    "                left = current + 'left'\n",
    "                tree[left] = create_node(H,X_left,Y_left,feature=None,threshold=None,left=None,right=None,up=current,end=False,prediction=None)\n",
    "                queue_list.append(left)\n",
    "\n",
    "                tree[current]['feature'] = feature\n",
    "                tree[current]['threshold'] = threshold\n",
    "                tree[current]['left'] = left\n",
    "                tree[current]['right'] = right\n",
    "\n",
    "            else:\n",
    "                tree[current]['END'] = True\n",
    "                tree[current]['prediction'] = max_category(Y_current)\n",
    "\n",
    "        else:\n",
    "            tree[current]['END'] = True\n",
    "            tree[current]['prediction'] = max_category(Y_current)\n",
    "\n",
    "    training_tree = {}\n",
    "\n",
    "    for key,value in list(tree.items()):\n",
    "        training_tree[key] = create_node(value['Entropy'],None,None,feature=value['feature'],threshold=value['threshold'],left=value['left'],right=value['right'],up=None,end=value['END'],prediction=value['prediction'])\n",
    "    \n",
    "    return training_tree"
   ]
  },
  {
   "cell_type": "markdown",
   "metadata": {},
   "source": [
    "Tree prediction:"
   ]
  },
  {
   "cell_type": "code",
   "execution_count": 4,
   "metadata": {},
   "outputs": [],
   "source": [
    "def predict(x,tree):\n",
    "    current = 'top'\n",
    "    prediction = None\n",
    "    while True:\n",
    "        end = tree[current]['END']\n",
    "        if end:\n",
    "            prediction = tree[current]['prediction']\n",
    "            break\n",
    "        else:\n",
    "            feature = tree[current]['feature']\n",
    "            threshold = tree[current]['threshold']\n",
    "            value = x[feature]\n",
    "            if value < threshold:\n",
    "                current = current + 'left'\n",
    "            else:\n",
    "                current = current + 'right'\n",
    "    return prediction"
   ]
  },
  {
   "cell_type": "markdown",
   "metadata": {},
   "source": [
    "Accuracy evaluation:"
   ]
  },
  {
   "cell_type": "code",
   "execution_count": 5,
   "metadata": {},
   "outputs": [],
   "source": [
    "def val_acc(X_test,Y_test,tree):\n",
    "    count = 0\n",
    "    for x,y in zip(X_test,Y_test):\n",
    "        y_pred = predict(x,tree)\n",
    "        if y_pred == y:\n",
    "            count += 1\n",
    "    acc = count/len(Y_test)\n",
    "    return acc"
   ]
  },
  {
   "cell_type": "markdown",
   "metadata": {},
   "source": [
    "F1_score evaluation:"
   ]
  },
  {
   "cell_type": "code",
   "execution_count": 6,
   "metadata": {},
   "outputs": [],
   "source": [
    "def val_f1(X_test,Y_test,tree):\n",
    "    Y_pred = np.zeros_like(Y_test)\n",
    "    i=0\n",
    "    for x in X_test:\n",
    "        y_pred = predict(x,tree)\n",
    "        Y_pred[i] = y_pred\n",
    "        i+=1\n",
    "    f1 = f1_score(Y_test,Y_pred,average='weighted')\n",
    "    return f1"
   ]
  },
  {
   "cell_type": "markdown",
   "metadata": {},
   "source": [
    "Random Forest training:"
   ]
  },
  {
   "cell_type": "code",
   "execution_count": 7,
   "metadata": {},
   "outputs": [],
   "source": [
    "def train_random_forest(X_train_set,Y_train_set,inf_gain_threshold,len_features):\n",
    "    forest = []\n",
    "    for i in range(len(X_train_set)):\n",
    "        x_train = X_train_set[i]\n",
    "        y_train = Y_train_set[i]\n",
    "        tree = train_tree(x_train,y_train,inf_gain_threshold=inf_gain_threshold,len_features=len_features)\n",
    "        forest.append(tree)\n",
    "    return forest"
   ]
  },
  {
   "cell_type": "markdown",
   "metadata": {},
   "source": [
    "Random Forest prediction:"
   ]
  },
  {
   "cell_type": "code",
   "execution_count": 8,
   "metadata": {},
   "outputs": [],
   "source": [
    "def predict_random_forest(X,forest):\n",
    "    Y_pred = []\n",
    "    for x in X:\n",
    "        Y = []\n",
    "        for tree in forest:\n",
    "            y = predict(x,tree)\n",
    "            Y.append(y)\n",
    "        y_pred = np.argmax(np.bincount(Y))\n",
    "        Y_pred.append(y_pred)\n",
    "    return Y_pred"
   ]
  },
  {
   "cell_type": "markdown",
   "metadata": {},
   "source": [
    "Random Forest accuracy evaluation:"
   ]
  },
  {
   "cell_type": "code",
   "execution_count": 9,
   "metadata": {},
   "outputs": [],
   "source": [
    "def val_acc_random_forest(X_test,Y_test,forest):\n",
    "    count = 0\n",
    "    for x,y in zip(X_test,Y_test):\n",
    "        Y_pred = []\n",
    "        for tree in forest:\n",
    "            y_pred = predict(x,tree)\n",
    "            Y_pred.append(y_pred)\n",
    "        y_pred = np.argmax(np.bincount(Y_pred))\n",
    "        if y_pred == y:\n",
    "            count += 1\n",
    "    acc = count/len(Y_test)\n",
    "    return acc"
   ]
  },
  {
   "cell_type": "markdown",
   "metadata": {},
   "source": [
    "Random Forest F1_score evaluation:"
   ]
  },
  {
   "cell_type": "code",
   "execution_count": 10,
   "metadata": {},
   "outputs": [],
   "source": [
    "def val_f1_random_forest(X_test,Y_test,forest):\n",
    "    Y_pred = np.zeros_like(Y_test)\n",
    "    i=0\n",
    "    for x in X_test:\n",
    "        Y = []\n",
    "        for tree in forest:\n",
    "            y_pred = predict(x,tree)\n",
    "            Y.append(y_pred)\n",
    "        y_pred = np.argmax(np.bincount(Y))\n",
    "        Y_pred[i] = y_pred\n",
    "        i+=1\n",
    "    f1 = f1_score(Y_test,Y_pred,average='weighted')\n",
    "    return f1"
   ]
  },
  {
   "cell_type": "markdown",
   "metadata": {},
   "source": [
    "Datasets creation:"
   ]
  },
  {
   "cell_type": "code",
   "execution_count": 11,
   "metadata": {},
   "outputs": [],
   "source": [
    "def create_train_sets(X_train,Y_train,len_set,num_trees):\n",
    "    X_train_set = [0]*num_trees\n",
    "    Y_train_set = [0]*num_trees\n",
    "    for i in range(num_trees):\n",
    "        x_train_set = np.zeros([len_set,X_train.shape[1]])\n",
    "        y_train_set = np.zeros([len_set])\n",
    "        for j in range(len(x_train_set)):\n",
    "            number = np.random.randint(0,len(X_train))\n",
    "            x_train_set[j] = X_train[number]\n",
    "            y_train_set[j] = Y_train[number]\n",
    "        X_train_set[i] = x_train_set\n",
    "        Y_train_set[i] = y_train_set\n",
    "    return X_train_set, Y_train_set"
   ]
  },
  {
   "cell_type": "markdown",
   "metadata": {},
   "source": [
    "Random forest training with evaluation:"
   ]
  },
  {
   "cell_type": "code",
   "execution_count": 12,
   "metadata": {},
   "outputs": [],
   "source": [
    "def train_best_random_forest(X_train,Y_train,X_val,Y_val,inf_gain_threshold,len_features,num_trees,iterations):\n",
    "    f1_best = 0\n",
    "    for _ in range(iterations):\n",
    "        X_train_set, Y_train_set = create_train_sets(X_train,Y_train,len_set=int(np.sqrt(len(X_train))),num_trees=num_trees)\n",
    "        forest_i = train_random_forest(X_train_set,Y_train_set,inf_gain_threshold,len_features)\n",
    "        f1_i = float(val_f1_random_forest(X_val,Y_val,forest_i))\n",
    "        if f1_i > f1_best:\n",
    "            forest = forest_i\n",
    "    return forest"
   ]
  },
  {
   "cell_type": "markdown",
   "metadata": {},
   "source": [
    "## Loading data and training"
   ]
  },
  {
   "cell_type": "code",
   "execution_count": 13,
   "metadata": {},
   "outputs": [],
   "source": [
    "data = load_iris()\n",
    "X, Y = data['data'], data['target']\n",
    "# X_train, X_test, Y_train, Y_test = train_test_split(X,Y,test_size=0.3)\n",
    "X_train, X_test_val, Y_train, Y_test_val = train_test_split(X,Y,test_size=0.4)\n",
    "X_val, X_test, Y_val, Y_test = train_test_split(X_test_val,Y_test_val,test_size=0.5)"
   ]
  },
  {
   "cell_type": "markdown",
   "metadata": {},
   "source": [
    "### One Tree"
   ]
  },
  {
   "cell_type": "code",
   "execution_count": 14,
   "metadata": {},
   "outputs": [],
   "source": [
    "tree = train_tree(X_train,Y_train,inf_gain_threshold=0.1,len_features=X_train.shape[1])"
   ]
  },
  {
   "cell_type": "markdown",
   "metadata": {},
   "source": [
    "Tree structure:"
   ]
  },
  {
   "cell_type": "code",
   "execution_count": 15,
   "metadata": {},
   "outputs": [
    {
     "data": {
      "text/plain": [
       "{'top': {'Entropy': 4.756491387866058,\n",
       "  'X': None,\n",
       "  'Y': None,\n",
       "  'feature': 2,\n",
       "  'threshold': 1.9500000000000002,\n",
       "  'left': 'topleft',\n",
       "  'right': 'topright',\n",
       "  'up': None,\n",
       "  'END': False,\n",
       "  'prediction': None},\n",
       " 'topright': {'Entropy': 1.3558183768550345,\n",
       "  'X': None,\n",
       "  'Y': None,\n",
       "  'feature': None,\n",
       "  'threshold': None,\n",
       "  'left': None,\n",
       "  'right': None,\n",
       "  'up': None,\n",
       "  'END': True,\n",
       "  'prediction': 2},\n",
       " 'topleft': {'Entropy': 1.3558183768550345,\n",
       "  'X': None,\n",
       "  'Y': None,\n",
       "  'feature': 0,\n",
       "  'threshold': 4.680000000000001,\n",
       "  'left': 'topleftleft',\n",
       "  'right': 'topleftright',\n",
       "  'up': None,\n",
       "  'END': False,\n",
       "  'prediction': None},\n",
       " 'topleftright': {'Entropy': 0.0,\n",
       "  'X': None,\n",
       "  'Y': None,\n",
       "  'feature': None,\n",
       "  'threshold': None,\n",
       "  'left': None,\n",
       "  'right': None,\n",
       "  'up': None,\n",
       "  'END': True,\n",
       "  'prediction': 0},\n",
       " 'topleftleft': {'Entropy': 0.0,\n",
       "  'X': None,\n",
       "  'Y': None,\n",
       "  'feature': None,\n",
       "  'threshold': None,\n",
       "  'left': None,\n",
       "  'right': None,\n",
       "  'up': None,\n",
       "  'END': True,\n",
       "  'prediction': 0}}"
      ]
     },
     "execution_count": 15,
     "metadata": {},
     "output_type": "execute_result"
    }
   ],
   "source": [
    "tree"
   ]
  },
  {
   "cell_type": "code",
   "execution_count": 16,
   "metadata": {},
   "outputs": [
    {
     "name": "stdout",
     "output_type": "stream",
     "text": [
      "Accuracy =  0.57\n",
      "F1 score =  0.45\n"
     ]
    }
   ],
   "source": [
    "print('Accuracy = ',round(val_acc(X_test,Y_test,tree),2))\n",
    "print('F1 score = ',round(val_f1(X_test,Y_test,tree),2))"
   ]
  },
  {
   "cell_type": "markdown",
   "metadata": {},
   "source": [
    "## Random Forest:"
   ]
  },
  {
   "cell_type": "code",
   "execution_count": 17,
   "metadata": {},
   "outputs": [],
   "source": [
    "X_train_set, Y_train_set = create_train_sets(X_train,Y_train,len_set=len(X_train),num_trees=128)"
   ]
  },
  {
   "cell_type": "code",
   "execution_count": 18,
   "metadata": {},
   "outputs": [],
   "source": [
    "forest = train_random_forest(X_train_set,Y_train_set,0.01,4)"
   ]
  },
  {
   "cell_type": "code",
   "execution_count": 19,
   "metadata": {},
   "outputs": [
    {
     "name": "stdout",
     "output_type": "stream",
     "text": [
      "Accuracy =  0.57\n",
      "F1 score =  0.45\n"
     ]
    }
   ],
   "source": [
    "print('Accuracy = ',round(val_acc_random_forest(X_test,Y_test,forest),2))\n",
    "print('F1 score = ',round(val_f1_random_forest(X_test,Y_test,forest),2))"
   ]
  },
  {
   "cell_type": "markdown",
   "metadata": {},
   "source": [
    "## Improved Random Forest with evaluation during training"
   ]
  },
  {
   "cell_type": "code",
   "execution_count": 20,
   "metadata": {},
   "outputs": [],
   "source": [
    "forest = train_best_random_forest(X_train,Y_train,X_val,Y_val,0.01,X_train.shape[1],num_trees=100,iterations=10)"
   ]
  },
  {
   "cell_type": "code",
   "execution_count": 21,
   "metadata": {},
   "outputs": [
    {
     "name": "stdout",
     "output_type": "stream",
     "text": [
      "Accuracy =  0.97\n",
      "F1 score =  0.97\n"
     ]
    }
   ],
   "source": [
    "print('Accuracy = ',round(val_acc_random_forest(X_test,Y_test,forest),2))\n",
    "print('F1 score = ',round(val_f1_random_forest(X_test,Y_test,forest),2))"
   ]
  }
 ],
 "metadata": {
  "kernelspec": {
   "display_name": "base",
   "language": "python",
   "name": "python3"
  },
  "language_info": {
   "codemirror_mode": {
    "name": "ipython",
    "version": 3
   },
   "file_extension": ".py",
   "mimetype": "text/x-python",
   "name": "python",
   "nbconvert_exporter": "python",
   "pygments_lexer": "ipython3",
   "version": "3.11.5"
  }
 },
 "nbformat": 4,
 "nbformat_minor": 2
}
